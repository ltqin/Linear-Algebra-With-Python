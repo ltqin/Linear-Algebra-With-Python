{
 "cells": [
  {
   "cell_type": "code",
   "execution_count": 3,
   "id": "4225d8a7",
   "metadata": {},
   "outputs": [
    {
     "name": "stdout",
     "output_type": "stream",
     "text": [
      "r1: [2]\n",
      "r1_eq: [2]\n",
      "r1: {x: 2, y: 1}\n",
      "r3: {x: 1, y: 2, z: -1}\n"
     ]
    }
   ],
   "source": [
    "\"\"\"\n",
    " 解下列二元一次方程\n",
    " 2x-y=3\n",
    " 3x+y=7\n",
    "\"\"\"\n",
    "# 导入模块\n",
    "from sympy import *\n",
    "# 将变量符号化\n",
    "x = Symbol('x')\n",
    "y = Symbol('y')\n",
    "z = Symbol('z')\n",
    "# 解一元一次方程\n",
    "expr1 = x*2-4\n",
    "r1 = solve(expr1, x)\n",
    "r1_eq = solve(Eq(x*2, 4), x)\n",
    "print(\"r1:\", r1)\n",
    "print(\"r1_eq:\", r1_eq)\n",
    "# 解二元一次方程\n",
    "expr2 = [2*x-y-3, 3*x+y-7]\n",
    "r2 = solve(expr2, [x, y])\n",
    "print(\"r1:\", r2)\n",
    "# 解三元一次方程\n",
    "f1 = x+y+z-2\n",
    "f2 = 2*x-y+z+1\n",
    "f3 = x+2*y+2*z-3\n",
    "r3 = solve([f1, f2, f3], [x, y, z])\n",
    "print(\"r3:\", r3)"
   ]
  },
  {
   "cell_type": "code",
   "execution_count": null,
   "id": "ac617286",
   "metadata": {},
   "outputs": [],
   "source": []
  }
 ],
 "metadata": {
  "kernelspec": {
   "display_name": "Python 3 (ipykernel)",
   "language": "python",
   "name": "python3"
  },
  "language_info": {
   "codemirror_mode": {
    "name": "ipython",
    "version": 3
   },
   "file_extension": ".py",
   "mimetype": "text/x-python",
   "name": "python",
   "nbconvert_exporter": "python",
   "pygments_lexer": "ipython3",
   "version": "3.10.4"
  }
 },
 "nbformat": 4,
 "nbformat_minor": 5
}

{
 "cells": [
  {
   "cell_type": "code",
   "execution_count": 1,
   "id": "6b8019b7",
   "metadata": {},
   "outputs": [
    {
     "name": "stdout",
     "output_type": "stream",
     "text": [
      "======默认等式为0的形式 =======\n",
      "{(1, 2, -1)}\n",
      "\\left\\{\\left( 1, \\  2, \\  -1\\right)\\right\\}\n",
      "======矩阵形式 =======\n",
      "{(1, 2, -1)}\n",
      "\\left\\{\\left( 1, \\  2, \\  -1\\right)\\right\\}\n",
      "======增广矩阵形式 =======\n",
      "{(1, 2, -1)}\n",
      "\\left\\{\\left( 1, \\  2, \\  -1\\right)\\right\\}\n"
     ]
    }
   ],
   "source": [
    "\"\"\"\n",
    "  x+y+z-2=0\n",
    "  2x-y+z+1=0\n",
    "  x+2y+2z-3=0\n",
    "\"\"\"\n",
    "from sympy import *\n",
    "x, y, z = symbols(\"x y z\")\n",
    "# 默认等式为0的形式\n",
    "print(\"======默认等式为0的形式 =======\")\n",
    "eq = [x+y+z-2, 2*x-y+z+1, x+2*y+2*z-3]\n",
    "result = linsolve(eq, [x, y, z])\n",
    "print(result)\n",
    "print(latex(result))\n",
    "# 矩阵形式\n",
    "print(\"======矩阵形式 =======\")\n",
    "eq = Matrix(([1, 1, 1, 2], [2, -1, 1, -1], [1, 2, 2, 3]))\n",
    "result = linsolve(eq, [x, y, z])\n",
    "print(result)\n",
    "print(latex(result))\n",
    "# 增广矩阵形式\n",
    "print(\"======增广矩阵形式 =======\")\n",
    "A = Matrix([[1, 1, 1], [2, -1, 1], [1, 2, 2]])\n",
    "b = Matrix([[2], [-1], [3]])\n",
    "system = A, b\n",
    "result = linsolve(system, x, y, z)\n",
    "print(result)\n",
    "print(latex(result))"
   ]
  },
  {
   "cell_type": "code",
   "execution_count": null,
   "id": "75a5bbde",
   "metadata": {},
   "outputs": [],
   "source": []
  }
 ],
 "metadata": {
  "kernelspec": {
   "display_name": "Python 3 (ipykernel)",
   "language": "python",
   "name": "python3"
  },
  "language_info": {
   "codemirror_mode": {
    "name": "ipython",
    "version": 3
   },
   "file_extension": ".py",
   "mimetype": "text/x-python",
   "name": "python",
   "nbconvert_exporter": "python",
   "pygments_lexer": "ipython3",
   "version": "3.10.4"
  }
 },
 "nbformat": 4,
 "nbformat_minor": 5
}

{
 "cells": [
  {
   "cell_type": "code",
   "execution_count": 1,
   "id": "faf98025",
   "metadata": {},
   "outputs": [
    {
     "name": "stdout",
     "output_type": "stream",
     "text": [
      "{(-1, 1), (-1, -1/2 - sqrt(3)*I/2), (-1, -1/2 + sqrt(3)*I/2), (1 - I, -1 + I), (1 + I, -1 - I), (1 - I*sqrt(12 - 6*sqrt(3))/2 - I*sqrt(4 - 2*sqrt(3))/2, 1/2 + sqrt(3)/2 + sqrt(2)*sqrt(-2 + sqrt(3))/2), (1 - sqrt(-12 - 6*sqrt(3))/2 + sqrt(-4 - 2*sqrt(3))/2, -sqrt(3)/2 + 1/2 - sqrt(-8 + (1 - sqrt(3))**2)/2), (1 - sqrt(-4 - 2*sqrt(3))/2 + sqrt(-12 - 6*sqrt(3))/2, -sqrt(3)/2 + 1/2 + sqrt(-8 + (1 - sqrt(3))**2)/2), (1 + sqrt(-4 + 2*sqrt(3))/2 + sqrt(-12 + 6*sqrt(3))/2, 1/2 + sqrt(3)/2 - sqrt(2)*sqrt(-2 + sqrt(3))/2)}\n",
      "\\left\\{\\left( -1, \\  1\\right), \\left( -1, \\  - \\frac{1}{2} - \\frac{\\sqrt{3} i}{2}\\right), \\left( -1, \\  - \\frac{1}{2} + \\frac{\\sqrt{3} i}{2}\\right), \\left( 1 - i, \\  -1 + i\\right), \\left( 1 + i, \\  -1 - i\\right), \\left( 1 - \\frac{i \\sqrt{12 - 6 \\sqrt{3}}}{2} - \\frac{i \\sqrt{4 - 2 \\sqrt{3}}}{2}, \\  \\frac{1}{2} + \\frac{\\sqrt{3}}{2} + \\frac{\\sqrt{2} \\sqrt{-2 + \\sqrt{3}}}{2}\\right), \\left( 1 - \\frac{\\sqrt{-12 - 6 \\sqrt{3}}}{2} + \\frac{\\sqrt{-4 - 2 \\sqrt{3}}}{2}, \\  - \\frac{\\sqrt{3}}{2} + \\frac{1}{2} - \\frac{\\sqrt{-8 + \\left(1 - \\sqrt{3}\\right)^{2}}}{2}\\right), \\left( 1 - \\frac{\\sqrt{-4 - 2 \\sqrt{3}}}{2} + \\frac{\\sqrt{-12 - 6 \\sqrt{3}}}{2}, \\  - \\frac{\\sqrt{3}}{2} + \\frac{1}{2} + \\frac{\\sqrt{-8 + \\left(1 - \\sqrt{3}\\right)^{2}}}{2}\\right), \\left( 1 + \\frac{\\sqrt{-4 + 2 \\sqrt{3}}}{2} + \\frac{\\sqrt{-12 + 6 \\sqrt{3}}}{2}, \\  \\frac{1}{2} + \\frac{\\sqrt{3}}{2} - \\frac{\\sqrt{2} \\sqrt{-2 + \\sqrt{3}}}{2}\\right)\\right\\}\n"
     ]
    }
   ],
   "source": [
    "\"\"\"\n",
    "  x**2+y**2-2=0\n",
    "  x**3+y**3=0\n",
    "\"\"\"\n",
    "import sympy as sy\n",
    "x, y = sy.symbols(\"x y\")\n",
    "eq = [x**2+y**3-2, x**3+y**3]\n",
    "result = sy.nonlinsolve(eq, [x, y])\n",
    "print(result)\n",
    "print(sy.latex(result))"
   ]
  },
  {
   "cell_type": "code",
   "execution_count": null,
   "id": "c85e5d97",
   "metadata": {},
   "outputs": [],
   "source": []
  }
 ],
 "metadata": {
  "kernelspec": {
   "display_name": "Python 3 (ipykernel)",
   "language": "python",
   "name": "python3"
  },
  "language_info": {
   "codemirror_mode": {
    "name": "ipython",
    "version": 3
   },
   "file_extension": ".py",
   "mimetype": "text/x-python",
   "name": "python",
   "nbconvert_exporter": "python",
   "pygments_lexer": "ipython3",
   "version": "3.10.4"
  }
 },
 "nbformat": 4,
 "nbformat_minor": 5
}

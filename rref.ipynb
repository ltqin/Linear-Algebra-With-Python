{
 "cells": [
  {
   "cell_type": "code",
   "execution_count": 38,
   "id": "3d53e4ef",
   "metadata": {},
   "outputs": [],
   "source": [
    "import sympy as sy"
   ]
  },
  {
   "cell_type": "code",
   "execution_count": 68,
   "id": "a1ba7fea",
   "metadata": {},
   "outputs": [
    {
     "data": {
      "text/latex": [
       "$\\displaystyle \\left[\\begin{matrix}1 & 1 & 3 & 1 & 0\\\\2 & 1 & 5 & 4 & 0\\\\1 & 2 & 4 & -1 & 0\\end{matrix}\\right]$"
      ],
      "text/plain": [
       "Matrix([\n",
       "[1, 1, 3,  1, 0],\n",
       "[2, 1, 5,  4, 0],\n",
       "[1, 2, 4, -1, 0]])"
      ]
     },
     "execution_count": 68,
     "metadata": {},
     "output_type": "execute_result"
    }
   ],
   "source": [
    "A=sy.Matrix([[1, 1, 3, 1, 0],[2, 1, 5, 4, 0],[1, 2, 4, -1, 0]])\n",
    "A"
   ]
  },
  {
   "cell_type": "code",
   "execution_count": 69,
   "id": "7a47584f",
   "metadata": {},
   "outputs": [
    {
     "data": {
      "text/latex": [
       "$\\displaystyle \\left[\\begin{matrix}1 & 0 & 2 & 3 & 0\\\\0 & 1 & 1 & -2 & 0\\\\0 & 0 & 0 & 0 & 0\\end{matrix}\\right]$"
      ],
      "text/plain": [
       "Matrix([\n",
       "[1, 0, 2,  3, 0],\n",
       "[0, 1, 1, -2, 0],\n",
       "[0, 0, 0,  0, 0]])"
      ]
     },
     "execution_count": 69,
     "metadata": {},
     "output_type": "execute_result"
    }
   ],
   "source": [
    "B =A.rref()\n",
    "B[0]"
   ]
  },
  {
   "cell_type": "code",
   "execution_count": 60,
   "id": "939c273d",
   "metadata": {},
   "outputs": [],
   "source": [
    "a, b, c, d, e, f, g, h, i, j, k, l, m, n, o, p, q, r, s, t, u, v, w, x, y, z = sy.symbols('a, b, c, d, e, f, g, h, i, j, k, l, m, n, o, p, q, r, s, t, u, v, w, x, y, z', real = True)"
   ]
  },
  {
   "cell_type": "code",
   "execution_count": 99,
   "id": "92717212",
   "metadata": {},
   "outputs": [
    {
     "data": {
      "text/latex": [
       "$\\displaystyle \\left[\\begin{matrix}a & b & c & 0\\\\d & e & f & 0\\end{matrix}\\right]$"
      ],
      "text/plain": [
       "Matrix([\n",
       "[a, b, c, 0],\n",
       "[d, e, f, 0]])"
      ]
     },
     "execution_count": 99,
     "metadata": {},
     "output_type": "execute_result"
    }
   ],
   "source": [
    "A=sy.Matrix([[a, b, c,0],[d,e,f,0]])\n",
    "A"
   ]
  },
  {
   "cell_type": "code",
   "execution_count": 100,
   "id": "3b249f18",
   "metadata": {},
   "outputs": [
    {
     "data": {
      "text/latex": [
       "$\\displaystyle \\left[\\begin{matrix}1 & 0 & \\frac{- b f + c e}{a e - b d} & 0\\\\0 & 1 & \\frac{a f - c d}{a e - b d} & 0\\end{matrix}\\right]$"
      ],
      "text/plain": [
       "Matrix([\n",
       "[1, 0, (-b*f + c*e)/(a*e - b*d), 0],\n",
       "[0, 1,  (a*f - c*d)/(a*e - b*d), 0]])"
      ]
     },
     "execution_count": 100,
     "metadata": {},
     "output_type": "execute_result"
    }
   ],
   "source": [
    "B=A.rref()\n",
    "B[0]"
   ]
  },
  {
   "cell_type": "code",
   "execution_count": 120,
   "id": "3f00daad",
   "metadata": {},
   "outputs": [
    {
     "data": {
      "text/latex": [
       "$\\displaystyle \\left[\\begin{matrix}1 & 1 & 3\\\\2 & 4 & 8\\\\7 & 2 & 1\\end{matrix}\\right]$"
      ],
      "text/plain": [
       "Matrix([\n",
       "[1, 1, 3],\n",
       "[2, 4, 8],\n",
       "[7, 2, 1]])"
      ]
     },
     "execution_count": 120,
     "metadata": {},
     "output_type": "execute_result"
    }
   ],
   "source": [
    "M=sy.Matrix([[1, 1, 3],[2,4,8],[7,2,1]])\n",
    "M"
   ]
  },
  {
   "cell_type": "code",
   "execution_count": 121,
   "id": "6eb57168",
   "metadata": {},
   "outputs": [
    {
     "data": {
      "text/latex": [
       "$\\displaystyle \\left[\\begin{matrix}b_{1}\\\\b_{2}\\\\b_{3}\\end{matrix}\\right]$"
      ],
      "text/plain": [
       "Matrix([\n",
       "[b1],\n",
       "[b2],\n",
       "[b3]])"
      ]
     },
     "execution_count": 121,
     "metadata": {},
     "output_type": "execute_result"
    }
   ],
   "source": [
    "Y=sy.Matrix(sy.symbols(\"b1,b2,b3\"))\n",
    "Y"
   ]
  },
  {
   "cell_type": "code",
   "execution_count": 122,
   "id": "57c5ad84",
   "metadata": {},
   "outputs": [
    {
     "data": {
      "text/latex": [
       "$\\displaystyle \\left[\\begin{matrix}\\frac{2 b_{1}}{5} - \\frac{b_{2}}{6} + \\frac{2 b_{3}}{15}\\\\- \\frac{9 b_{1}}{5} + \\frac{2 b_{2}}{3} + \\frac{b_{3}}{15}\\\\\\frac{4 b_{1}}{5} - \\frac{b_{2}}{6} - \\frac{b_{3}}{15}\\end{matrix}\\right]$"
      ],
      "text/plain": [
       "Matrix([\n",
       "[ 2*b1/5 - b2/6 + 2*b3/15],\n",
       "[-9*b1/5 + 2*b2/3 + b3/15],\n",
       "[   4*b1/5 - b2/6 - b3/15]])"
      ]
     },
     "execution_count": 122,
     "metadata": {},
     "output_type": "execute_result"
    }
   ],
   "source": [
    "#not my want \n",
    "D=M.LUsolve(Y)\n",
    "D"
   ]
  },
  {
   "cell_type": "code",
   "execution_count": 124,
   "id": "eb1fb15c",
   "metadata": {},
   "outputs": [
    {
     "data": {
      "text/latex": [
       "$\\displaystyle \\left[\\begin{matrix}\\frac{2 b_{1}}{5} - \\frac{b_{2}}{6} + \\frac{2 b_{3}}{15}\\\\- \\frac{9 b_{1}}{5} + \\frac{2 b_{2}}{3} + \\frac{b_{3}}{15}\\\\\\frac{4 b_{1}}{5} - \\frac{b_{2}}{6} - \\frac{b_{3}}{15}\\end{matrix}\\right]$"
      ],
      "text/plain": [
       "Matrix([\n",
       "[ 2*b1/5 - b2/6 + 2*b3/15],\n",
       "[-9*b1/5 + 2*b2/3 + b3/15],\n",
       "[   4*b1/5 - b2/6 - b3/15]])"
      ]
     },
     "execution_count": 124,
     "metadata": {},
     "output_type": "execute_result"
    }
   ],
   "source": [
    "M.inv()*Y"
   ]
  },
  {
   "cell_type": "code",
   "execution_count": null,
   "id": "b7a336b6",
   "metadata": {},
   "outputs": [],
   "source": []
  }
 ],
 "metadata": {
  "kernelspec": {
   "display_name": "Python 3 (ipykernel)",
   "language": "python",
   "name": "python3"
  },
  "language_info": {
   "codemirror_mode": {
    "name": "ipython",
    "version": 3
   },
   "file_extension": ".py",
   "mimetype": "text/x-python",
   "name": "python",
   "nbconvert_exporter": "python",
   "pygments_lexer": "ipython3",
   "version": "3.10.4"
  }
 },
 "nbformat": 4,
 "nbformat_minor": 5
}

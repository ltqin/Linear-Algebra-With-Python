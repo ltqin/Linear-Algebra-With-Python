{
 "cells": [
  {
   "cell_type": "code",
   "execution_count": 1,
   "id": "131ef74f",
   "metadata": {},
   "outputs": [],
   "source": [
    "import sympy as sy"
   ]
  },
  {
   "cell_type": "markdown",
   "id": "76d4095b",
   "metadata": {},
   "source": [
    "### P161 例7"
   ]
  },
  {
   "cell_type": "code",
   "execution_count": null,
   "id": "a635cb52",
   "metadata": {},
   "outputs": [],
   "source": [
    "V_T=sy.Matrix([[1, 1, 2,-1],[1,2,1,1],[1,4,-1,5],[1,0,4,-1],[2,5,0,2]])\n",
    "V_T"
   ]
  },
  {
   "cell_type": "code",
   "execution_count": 5,
   "id": "e4448d0e",
   "metadata": {},
   "outputs": [
    {
     "data": {
      "text/latex": [
       "$\\displaystyle \\left[\\begin{matrix}1 & 0 & 0 & -9\\\\0 & 1 & 0 & 4\\\\0 & 0 & 1 & 2\\\\0 & 0 & 0 & 0\\\\0 & 0 & 0 & 0\\end{matrix}\\right]$"
      ],
      "text/plain": [
       "Matrix([\n",
       "[1, 0, 0, -9],\n",
       "[0, 1, 0,  4],\n",
       "[0, 0, 1,  2],\n",
       "[0, 0, 0,  0],\n",
       "[0, 0, 0,  0]])"
      ]
     },
     "execution_count": 5,
     "metadata": {},
     "output_type": "execute_result"
    }
   ],
   "source": [
    "B_T=V_T.rref()\n",
    "B_T[0]"
   ]
  },
  {
   "cell_type": "code",
   "execution_count": 4,
   "id": "2c1e38c1",
   "metadata": {},
   "outputs": [
    {
     "data": {
      "text/latex": [
       "$\\displaystyle \\left[\\begin{matrix}1 & 0 & 0 & 0 & 0\\\\0 & 1 & 0 & 0 & 0\\\\0 & 0 & 1 & 0 & 0\\\\-9 & 4 & 2 & 0 & 0\\end{matrix}\\right]$"
      ],
      "text/plain": [
       "Matrix([\n",
       "[ 1, 0, 0, 0, 0],\n",
       "[ 0, 1, 0, 0, 0],\n",
       "[ 0, 0, 1, 0, 0],\n",
       "[-9, 4, 2, 0, 0]])"
      ]
     },
     "execution_count": 4,
     "metadata": {},
     "output_type": "execute_result"
    }
   ],
   "source": [
    "B=B_T[0].T\n",
    "B"
   ]
  },
  {
   "cell_type": "markdown",
   "id": "d7a9b005",
   "metadata": {},
   "source": [
    "### 习题1"
   ]
  },
  {
   "cell_type": "code",
   "execution_count": 6,
   "id": "620e94b6",
   "metadata": {},
   "outputs": [
    {
     "data": {
      "text/latex": [
       "$\\displaystyle \\left[\\begin{matrix}1 & 0\\\\1 & 1\\\\-1 & 0\\\\0 & -1\\end{matrix}\\right]$"
      ],
      "text/plain": [
       "Matrix([\n",
       "[ 1,  0],\n",
       "[ 1,  1],\n",
       "[-1,  0],\n",
       "[ 0, -1]])"
      ]
     },
     "execution_count": 6,
     "metadata": {},
     "output_type": "execute_result"
    }
   ],
   "source": [
    "V_T=sy.Matrix([[1, 0],[1,1],[-1,0],[0,-1]])\n",
    "V_T"
   ]
  },
  {
   "cell_type": "code",
   "execution_count": 7,
   "id": "ceab8928",
   "metadata": {},
   "outputs": [
    {
     "data": {
      "text/latex": [
       "$\\displaystyle \\left[\\begin{matrix}1 & 0\\\\0 & 1\\\\0 & 0\\\\0 & 0\\end{matrix}\\right]$"
      ],
      "text/plain": [
       "Matrix([\n",
       "[1, 0],\n",
       "[0, 1],\n",
       "[0, 0],\n",
       "[0, 0]])"
      ]
     },
     "execution_count": 7,
     "metadata": {},
     "output_type": "execute_result"
    }
   ],
   "source": [
    "B_T=V_T.rref()\n",
    "B_T[0]"
   ]
  },
  {
   "cell_type": "code",
   "execution_count": 8,
   "id": "473822a3",
   "metadata": {},
   "outputs": [
    {
     "data": {
      "text/latex": [
       "$\\displaystyle \\left[\\begin{matrix}1 & 0 & 0 & 0\\\\0 & 1 & 0 & 0\\end{matrix}\\right]$"
      ],
      "text/plain": [
       "Matrix([\n",
       "[1, 0, 0, 0],\n",
       "[0, 1, 0, 0]])"
      ]
     },
     "execution_count": 8,
     "metadata": {},
     "output_type": "execute_result"
    }
   ],
   "source": [
    "B=B_T[0].T\n",
    "B"
   ]
  },
  {
   "cell_type": "code",
   "execution_count": null,
   "id": "f59c77f2",
   "metadata": {},
   "outputs": [],
   "source": []
  }
 ],
 "metadata": {
  "kernelspec": {
   "display_name": "Python 3",
   "language": "python",
   "name": "python3"
  },
  "language_info": {
   "codemirror_mode": {
    "name": "ipython",
    "version": 3
   },
   "file_extension": ".py",
   "mimetype": "text/x-python",
   "name": "python",
   "nbconvert_exporter": "python",
   "pygments_lexer": "ipython3",
   "version": "3.6.9"
  }
 },
 "nbformat": 4,
 "nbformat_minor": 5
}

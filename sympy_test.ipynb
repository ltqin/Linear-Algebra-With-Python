{
 "cells": [
  {
   "cell_type": "code",
   "execution_count": 1,
   "id": "c0ab0574",
   "metadata": {},
   "outputs": [],
   "source": [
    "import sympy as sy"
   ]
  },
  {
   "cell_type": "code",
   "execution_count": 11,
   "id": "a7e538c0",
   "metadata": {},
   "outputs": [],
   "source": [
    " α,δ,η,ν,π,β,ε,θ,λ,ρ,μ,σ,Φ,φ,Ω,Ψ,ψ,ω = sy.symbols('α,δ,η,ν,π,β,ε,θ,λ,ρ,μ,σ,Φ,φ,Ω,Ψ,ψ,ω,x', real = True)"
   ]
  },
  {
   "cell_type": "code",
   "execution_count": 12,
   "id": "3580aafc",
   "metadata": {},
   "outputs": [
    {
     "data": {
      "text/plain": [
       "True"
      ]
     },
     "execution_count": 12,
     "metadata": {},
     "output_type": "execute_result"
    }
   ],
   "source": [
    "α.is_real"
   ]
  },
  {
   "cell_type": "code",
   "execution_count": 13,
   "id": "cada3d99",
   "metadata": {},
   "outputs": [
    {
     "data": {
      "text/latex": [
       "$\\displaystyle \\left|{x}\\right|$"
      ],
      "text/plain": [
       "Abs(x)"
      ]
     },
     "execution_count": 13,
     "metadata": {},
     "output_type": "execute_result"
    }
   ],
   "source": [
    "sy.sqrt(x**2)"
   ]
  },
  {
   "cell_type": "code",
   "execution_count": 14,
   "id": "f1c4240d",
   "metadata": {},
   "outputs": [],
   "source": [
    "x,y,z = sy.symbols('x,y,z')"
   ]
  },
  {
   "cell_type": "code",
   "execution_count": 16,
   "id": "99c8e2b5",
   "metadata": {},
   "outputs": [],
   "source": [
    "f=sy.Function(\"f\")"
   ]
  },
  {
   "cell_type": "code",
   "execution_count": 17,
   "id": "c61cd5fa",
   "metadata": {},
   "outputs": [
    {
     "data": {
      "text/plain": [
       "sympy.core.function.UndefinedFunction"
      ]
     },
     "execution_count": 17,
     "metadata": {},
     "output_type": "execute_result"
    }
   ],
   "source": [
    "type(f)"
   ]
  },
  {
   "cell_type": "code",
   "execution_count": 18,
   "id": "e68c04f1",
   "metadata": {},
   "outputs": [
    {
     "data": {
      "text/latex": [
       "$\\displaystyle f{\\left(x \\right)}$"
      ],
      "text/plain": [
       "f(x)"
      ]
     },
     "execution_count": 18,
     "metadata": {},
     "output_type": "execute_result"
    }
   ],
   "source": [
    "f(x)"
   ]
  },
  {
   "cell_type": "code",
   "execution_count": 19,
   "id": "13a09382",
   "metadata": {},
   "outputs": [],
   "source": [
    "g=sy.Function(\"g\")(x,y,z)"
   ]
  },
  {
   "cell_type": "code",
   "execution_count": 22,
   "id": "3b8b8a8c",
   "metadata": {},
   "outputs": [
    {
     "data": {
      "text/latex": [
       "$\\displaystyle g{\\left(x,y,z \\right)}$"
      ],
      "text/plain": [
       "g(x, y, z)"
      ]
     },
     "execution_count": 22,
     "metadata": {},
     "output_type": "execute_result"
    }
   ],
   "source": [
    "g"
   ]
  },
  {
   "cell_type": "code",
   "execution_count": null,
   "id": "d5b13ff9",
   "metadata": {},
   "outputs": [],
   "source": []
  }
 ],
 "metadata": {
  "kernelspec": {
   "display_name": "Python 3 (ipykernel)",
   "language": "python",
   "name": "python3"
  },
  "language_info": {
   "codemirror_mode": {
    "name": "ipython",
    "version": 3
   },
   "file_extension": ".py",
   "mimetype": "text/x-python",
   "name": "python",
   "nbconvert_exporter": "python",
   "pygments_lexer": "ipython3",
   "version": "3.10.4"
  }
 },
 "nbformat": 4,
 "nbformat_minor": 5
}
